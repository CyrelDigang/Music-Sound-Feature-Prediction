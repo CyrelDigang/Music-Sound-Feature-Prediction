{
  "nbformat": 4,
  "nbformat_minor": 0,
  "metadata": {
    "colab": {
      "provenance": []
    },
    "kernelspec": {
      "name": "python3",
      "display_name": "Python 3"
    },
    "language_info": {
      "name": "python"
    }
  },
  "cells": [
    {
      "cell_type": "code",
      "execution_count": null,
      "metadata": {
        "id": "jVQphZSWg1te"
      },
      "outputs": [],
      "source": [
        "import os\n",
        "import numpy as np\n",
        "import pandas as pd\n",
        "\n",
        "import seaborn as sns\n",
        "import plotly.express as px\n",
        "import matplotlib.pyplot as plt\n",
        "\n",
        "from prophet import Prophet\n",
        "\n",
        "import warnings\n",
        "warnings.filterwarnings(\"ignore\")"
      ]
    },
    {
      "cell_type": "code",
      "source": [
        "year_data = pd.read_csv('/content/data.csv')"
      ],
      "metadata": {
        "id": "uZ-0iZs_hORc"
      },
      "execution_count": null,
      "outputs": []
    },
    {
      "cell_type": "code",
      "source": [
        "# Select specific columns\n",
        "selected_columns = ['year', 'acousticness', 'danceability', 'energy', 'instrumentalness', 'liveness', 'valence']\n",
        "\n",
        "# Print the selected columns\n",
        "print(\"Selected columns of the data:\")\n",
        "print(year_data[selected_columns].head())"
      ],
      "metadata": {
        "colab": {
          "base_uri": "https://localhost:8080/"
        },
        "id": "0tFfdARZYh_B",
        "outputId": "388cbda5-4da0-4da5-c881-096a263e9cf0"
      },
      "execution_count": null,
      "outputs": [
        {
          "output_type": "stream",
          "name": "stdout",
          "text": [
            "Selected columns of the data:\n",
            "   year  acousticness  danceability  energy  instrumentalness  liveness  \\\n",
            "0  1921         0.982         0.279   0.211          0.878000     0.665   \n",
            "1  1921         0.732         0.819   0.341          0.000000     0.160   \n",
            "2  1921         0.961         0.328   0.166          0.913000     0.101   \n",
            "3  1921         0.967         0.275   0.309          0.000028     0.381   \n",
            "4  1921         0.957         0.418   0.193          0.000002     0.229   \n",
            "\n",
            "   valence  \n",
            "0   0.0594  \n",
            "1   0.9630  \n",
            "2   0.0394  \n",
            "3   0.1650  \n",
            "4   0.2530  \n"
          ]
        }
      ]
    },
    {
      "cell_type": "code",
      "source": [
        "print(year_data.info())"
      ],
      "metadata": {
        "colab": {
          "base_uri": "https://localhost:8080/"
        },
        "id": "a9I4aDbrhPBv",
        "outputId": "d83446fc-fca0-4e47-8cf3-359da1feb627"
      },
      "execution_count": null,
      "outputs": [
        {
          "output_type": "stream",
          "name": "stdout",
          "text": [
            "<class 'pandas.core.frame.DataFrame'>\n",
            "RangeIndex: 170653 entries, 0 to 170652\n",
            "Data columns (total 19 columns):\n",
            " #   Column            Non-Null Count   Dtype  \n",
            "---  ------            --------------   -----  \n",
            " 0   valence           170653 non-null  float64\n",
            " 1   year              170653 non-null  int64  \n",
            " 2   acousticness      170653 non-null  float64\n",
            " 3   artists           170653 non-null  object \n",
            " 4   danceability      170653 non-null  float64\n",
            " 5   duration_ms       170653 non-null  int64  \n",
            " 6   energy            170653 non-null  float64\n",
            " 7   explicit          170653 non-null  int64  \n",
            " 8   id                170653 non-null  object \n",
            " 9   instrumentalness  170653 non-null  float64\n",
            " 10  key               170653 non-null  int64  \n",
            " 11  liveness          170653 non-null  float64\n",
            " 12  loudness          170653 non-null  float64\n",
            " 13  mode              170653 non-null  int64  \n",
            " 14  name              170653 non-null  object \n",
            " 15  popularity        170653 non-null  int64  \n",
            " 16  release_date      170653 non-null  object \n",
            " 17  speechiness       170653 non-null  float64\n",
            " 18  tempo             170653 non-null  float64\n",
            "dtypes: float64(9), int64(6), object(4)\n",
            "memory usage: 24.7+ MB\n",
            "None\n"
          ]
        }
      ]
    },
    {
      "cell_type": "code",
      "source": [
        "# Drop rows with NaN values in the selected columns\n",
        "year_data_cleaned = year_data[selected_columns].dropna()"
      ],
      "metadata": {
        "id": "lB75-lqSZevL"
      },
      "execution_count": null,
      "outputs": []
    },
    {
      "cell_type": "code",
      "source": [
        "# Calculate the mean of each feature for every year\n",
        "sound_features = ['acousticness', 'danceability', 'energy', 'instrumentalness', 'liveness', 'valence']\n",
        "mean_data = year_data_cleaned.groupby('year')[sound_features].mean().reset_index()"
      ],
      "metadata": {
        "id": "Z0kaGkK8RZjY"
      },
      "execution_count": null,
      "outputs": []
    },
    {
      "cell_type": "code",
      "source": [
        "print(mean_data)"
      ],
      "metadata": {
        "colab": {
          "base_uri": "https://localhost:8080/"
        },
        "id": "7f23pW01b0CH",
        "outputId": "f4453bcc-0adc-44d1-e8ac-831a9d409060"
      },
      "execution_count": null,
      "outputs": [
        {
          "output_type": "stream",
          "name": "stdout",
          "text": [
            "    year  acousticness  danceability    energy  instrumentalness  liveness  \\\n",
            "0   1921      0.886896      0.418597  0.231815          0.344878  0.205710   \n",
            "1   1922      0.938592      0.482042  0.237815          0.434195  0.240720   \n",
            "2   1923      0.957247      0.577341  0.262406          0.371733  0.227462   \n",
            "3   1924      0.940200      0.549894  0.344347          0.581701  0.235219   \n",
            "4   1925      0.962607      0.573863  0.278594          0.418297  0.237668   \n",
            "..   ...           ...           ...       ...               ...       ...   \n",
            "95  2016      0.284171      0.600202  0.592855          0.093984  0.181170   \n",
            "96  2017      0.286099      0.612217  0.590421          0.097091  0.191713   \n",
            "97  2018      0.267633      0.663500  0.602435          0.054217  0.176326   \n",
            "98  2019      0.278299      0.644814  0.593224          0.077640  0.172616   \n",
            "99  2020      0.219931      0.692904  0.631232          0.016376  0.178535   \n",
            "\n",
            "     valence  \n",
            "0   0.379327  \n",
            "1   0.535549  \n",
            "2   0.625492  \n",
            "3   0.663725  \n",
            "4   0.621929  \n",
            "..       ...  \n",
            "95  0.431532  \n",
            "96  0.416476  \n",
            "97  0.447921  \n",
            "98  0.458818  \n",
            "99  0.501048  \n",
            "\n",
            "[100 rows x 7 columns]\n"
          ]
        }
      ]
    },
    {
      "cell_type": "code",
      "source": [
        "# Plot the means\n",
        "fig = px.line(mean_data, x='year', y=sound_features)\n",
        "fig.show()"
      ],
      "metadata": {
        "colab": {
          "base_uri": "https://localhost:8080/",
          "height": 542
        },
        "id": "F24Z1pDNhUzl",
        "outputId": "b59ef50e-4a7b-44f9-ec6d-7919836d498d"
      },
      "execution_count": null,
      "outputs": [
        {
          "output_type": "display_data",
          "data": {
            "text/html": [
              "<html>\n",
              "<head><meta charset=\"utf-8\" /></head>\n",
              "<body>\n",
              "    <div>            <script src=\"https://cdnjs.cloudflare.com/ajax/libs/mathjax/2.7.5/MathJax.js?config=TeX-AMS-MML_SVG\"></script><script type=\"text/javascript\">if (window.MathJax && window.MathJax.Hub && window.MathJax.Hub.Config) {window.MathJax.Hub.Config({SVG: {font: \"STIX-Web\"}});}</script>                <script type=\"text/javascript\">window.PlotlyConfig = {MathJaxConfig: 'local'};</script>\n",
              "        <script charset=\"utf-8\" src=\"https://cdn.plot.ly/plotly-2.24.1.min.js\"></script>                <div id=\"058a899d-7504-48e4-bfc7-778ecb100ae0\" class=\"plotly-graph-div\" style=\"height:525px; width:100%;\"></div>            <script type=\"text/javascript\">                                    window.PLOTLYENV=window.PLOTLYENV || {};                                    if (document.getElementById(\"058a899d-7504-48e4-bfc7-778ecb100ae0\")) {                    Plotly.newPlot(                        \"058a899d-7504-48e4-bfc7-778ecb100ae0\",                        [{\"hovertemplate\":\"variable=acousticness\\u003cbr\\u003eyear=%{x}\\u003cbr\\u003evalue=%{y}\\u003cextra\\u003e\\u003c\\u002fextra\\u003e\",\"legendgroup\":\"acousticness\",\"line\":{\"color\":\"#636efa\",\"dash\":\"solid\"},\"marker\":{\"symbol\":\"circle\"},\"mode\":\"lines\",\"name\":\"acousticness\",\"orientation\":\"v\",\"showlegend\":true,\"x\":[1921,1922,1923,1924,1925,1926,1927,1928,1929,1930,1931,1932,1933,1934,1935,1936,1937,1938,1939,1940,1941,1942,1943,1944,1945,1946,1947,1948,1949,1950,1951,1952,1953,1954,1955,1956,1957,1958,1959,1960,1961,1962,1963,1964,1965,1966,1967,1968,1969,1970,1971,1972,1973,1974,1975,1976,1977,1978,1979,1980,1981,1982,1983,1984,1985,1986,1987,1988,1989,1990,1991,1992,1993,1994,1995,1996,1997,1998,1999,2000,2001,2002,2003,2004,2005,2006,2007,2008,2009,2010,2011,2012,2013,2014,2015,2016,2017,2018,2019,2020],\"xaxis\":\"x\",\"y\":[0.886896,0.9385915492957747,0.9572467913513514,0.9401998601694915,0.9626070503597123,0.660817216981132,0.9361794552845528,0.9386165035685964,0.6014265861344538,0.9367149373700624,0.8330399585921324,0.9357705179282868,0.8998979091172213,0.8911487501730104,0.7783855599472991,0.77231208,0.8654357853881279,0.9192803908646003,0.9087381,0.84764405,0.89573765625,0.85293437039239,0.9027523185915493,0.9076531914893617,0.7096568630000001,0.9199445823665893,0.9139650224242424,0.922155,0.9075328949999999,0.8539413006,0.90229719565,0.8743009245,0.8909223502564103,0.8650197273,0.8405510070000001,0.82305699,0.792802358974359,0.779611865,0.7793927897435897,0.7671814843243243,0.7519038684210526,0.7206078068421052,0.72270483,0.6941005307692307,0.6099113295384615,0.5248094599700001,0.5296103243521761,0.49377024035,0.448846304,0.46005711395,0.45833629810000004,0.46004280519999996,0.416524189,0.44720742259999996,0.433773887195,0.36147063211,0.339302533375,0.32896857345,0.29593224063,0.28495539763589744,0.30120422674,0.289580038205,0.29477789163,0.287709580345,0.29657090320999996,0.28508065642499997,0.31166406639487176,0.3220099465128205,0.313351251815,0.332869950585,0.33276529163076923,0.320808763825,0.30906855374000003,0.30623436308999996,0.30251180612,0.30102687980000004,0.306715693455,0.29148946157,0.2715901110661199,0.2893227005163599,0.28684247484289277,0.282624289885,0.2564705181729785,0.28055894662258396,0.25576350686666666,0.27998635202564104,0.25408095755384613,0.24919176272122762,0.26192861909693876,0.2426866435515873,0.27318266251859197,0.24995304438046273,0.25748808595647776,0.24931264588029925,0.25395225771023305,0.2841710299554814,0.2860990665261044,0.26763299077508323,0.27829858633658283,0.21993088809359604],\"yaxis\":\"y\",\"type\":\"scatter\"},{\"hovertemplate\":\"variable=danceability\\u003cbr\\u003eyear=%{x}\\u003cbr\\u003evalue=%{y}\\u003cextra\\u003e\\u003c\\u002fextra\\u003e\",\"legendgroup\":\"danceability\",\"line\":{\"color\":\"#EF553B\",\"dash\":\"solid\"},\"marker\":{\"symbol\":\"circle\"},\"mode\":\"lines\",\"name\":\"danceability\",\"orientation\":\"v\",\"showlegend\":true,\"x\":[1921,1922,1923,1924,1925,1926,1927,1928,1929,1930,1931,1932,1933,1934,1935,1936,1937,1938,1939,1940,1941,1942,1943,1944,1945,1946,1947,1948,1949,1950,1951,1952,1953,1954,1955,1956,1957,1958,1959,1960,1961,1962,1963,1964,1965,1966,1967,1968,1969,1970,1971,1972,1973,1974,1975,1976,1977,1978,1979,1980,1981,1982,1983,1984,1985,1986,1987,1988,1989,1990,1991,1992,1993,1994,1995,1996,1997,1998,1999,2000,2001,2002,2003,2004,2005,2006,2007,2008,2009,2010,2011,2012,2013,2014,2015,2016,2017,2018,2019,2020],\"xaxis\":\"x\",\"y\":[0.4185973333333333,0.4820422535211268,0.5773405405405405,0.5498940677966102,0.573863309352518,0.5998802612481857,0.6482682926829268,0.5342878667724028,0.6476698529411764,0.5181758835758836,0.5952217391304347,0.5577976095617531,0.5702903039073807,0.5287058823529411,0.5558691699604743,0.5580055454545455,0.5421572298325723,0.4799779771615008,0.5126828,0.52189235,0.48048135416666665,0.4646338882282996,0.45514563380281686,0.5001744680851063,0.51914315,0.41444501160092806,0.47132084848484845,0.46336947368421055,0.4421994,0.5042531,0.4624801,0.4570322,0.4374260512820513,0.46563889999999997,0.4881312,0.4878145,0.5034812307692308,0.4800214,0.4821143076923077,0.4860292432432432,0.4891655789473684,0.4931643684210526,0.48162135,0.5041769743589744,0.5034505641025642,0.5070205,0.49268859429714856,0.5010081000000001,0.4880978,0.5063075,0.50427385,0.52099945,0.51544945,0.51533975,0.5209980000000001,0.5297625,0.5333237000000001,0.5407746,0.5620453,0.556152358974359,0.5421847000000001,0.5642594000000001,0.5456293,0.53030895,0.5556424,0.5409334,0.5410193333333333,0.5404594358974358,0.54722745,0.53529865,0.555824358974359,0.5550648499999999,0.56987815,0.55282995,0.55904575,0.5878306,0.57681385,0.58621165,0.5821579190158892,0.5909180470347649,0.5833178553615961,0.5761603,0.5757633060388946,0.5676803662258393,0.5722805641025641,0.5682301538461538,0.5634143589743589,0.5791928388746803,0.5641903571428571,0.5724883432539682,0.552866980664353,0.5708818508997429,0.5711480263157895,0.589947680798005,0.5937740628166159,0.6002023928770172,0.6122170180722891,0.6635004755111745,0.6448141097998974,0.6929043349753695],\"yaxis\":\"y\",\"type\":\"scatter\"},{\"hovertemplate\":\"variable=energy\\u003cbr\\u003eyear=%{x}\\u003cbr\\u003evalue=%{y}\\u003cextra\\u003e\\u003c\\u002fextra\\u003e\",\"legendgroup\":\"energy\",\"line\":{\"color\":\"#00cc96\",\"dash\":\"solid\"},\"marker\":{\"symbol\":\"circle\"},\"mode\":\"lines\",\"name\":\"energy\",\"orientation\":\"v\",\"showlegend\":true,\"x\":[1921,1922,1923,1924,1925,1926,1927,1928,1929,1930,1931,1932,1933,1934,1935,1936,1937,1938,1939,1940,1941,1942,1943,1944,1945,1946,1947,1948,1949,1950,1951,1952,1953,1954,1955,1956,1957,1958,1959,1960,1961,1962,1963,1964,1965,1966,1967,1968,1969,1970,1971,1972,1973,1974,1975,1976,1977,1978,1979,1980,1981,1982,1983,1984,1985,1986,1987,1988,1989,1990,1991,1992,1993,1994,1995,1996,1997,1998,1999,2000,2001,2002,2003,2004,2005,2006,2007,2008,2009,2010,2011,2012,2013,2014,2015,2016,2017,2018,2019,2020],\"xaxis\":\"x\",\"y\":[0.23181513333333334,0.23781535211267604,0.2624064864864865,0.34434661016949153,0.2785935251798561,0.21146709071117561,0.26432130081300814,0.2079477954004758,0.24180073529411764,0.3335239189189189,0.23449677329192548,0.30206772908366536,0.27989942112879884,0.26213131487889274,0.24636697628458498,0.3083886092727273,0.31104829528158295,0.28098123980424144,0.28267149999999996,0.310892895,0.2656431979166667,0.25607947086801425,0.27999004225352114,0.2534414494680851,0.22604441549999998,0.22217230858468678,0.2635512,0.24246484105263158,0.246114615,0.31407119499999997,0.254665655,0.25362601,0.26619683076923073,0.264347385,0.29509634,0.30476112,0.29527913333333333,0.308795755,0.3109944051282051,0.34114237837837835,0.33953186736842106,0.3710257,0.365353885,0.3944388256410256,0.44902724615384615,0.482208465,0.446823831915958,0.45696965,0.48762513,0.49563305,0.496361255,0.50452618,0.5361382499999999,0.5147236550000001,0.5232085049999999,0.55384325,0.560287959,0.561428865,0.591012715,0.5977773948717948,0.599382725,0.5909193895,0.601425235,0.591091675,0.60151548,0.6149546,0.5798395538461538,0.5856792461538463,0.584046375,0.571591395,0.5594023641025642,0.582864205,0.5625599099999999,0.578772685,0.5785795100000001,0.586068475,0.5986987151,0.605197505,0.6375226022552537,0.6254128323108386,0.6269855221945138,0.641269796,0.6601652610030706,0.6488679450661241,0.6532085112820513,0.6503262820512821,0.6683047743589744,0.6714608207672634,0.6707487551020409,0.6817778026289683,0.6483008934060486,0.6565714601542417,0.6455968914473684,0.6487954437905238,0.6270642715298885,0.5928552316082359,0.5904210208835341,0.6024346220161674,0.5932240360184711,0.6312316354679803],\"yaxis\":\"y\",\"type\":\"scatter\"},{\"hovertemplate\":\"variable=instrumentalness\\u003cbr\\u003eyear=%{x}\\u003cbr\\u003evalue=%{y}\\u003cextra\\u003e\\u003c\\u002fextra\\u003e\",\"legendgroup\":\"instrumentalness\",\"line\":{\"color\":\"#ab63fa\",\"dash\":\"solid\"},\"marker\":{\"symbol\":\"circle\"},\"mode\":\"lines\",\"name\":\"instrumentalness\",\"orientation\":\"v\",\"showlegend\":true,\"x\":[1921,1922,1923,1924,1925,1926,1927,1928,1929,1930,1931,1932,1933,1934,1935,1936,1937,1938,1939,1940,1941,1942,1943,1944,1945,1946,1947,1948,1949,1950,1951,1952,1953,1954,1955,1956,1957,1958,1959,1960,1961,1962,1963,1964,1965,1966,1967,1968,1969,1970,1971,1972,1973,1974,1975,1976,1977,1978,1979,1980,1981,1982,1983,1984,1985,1986,1987,1988,1989,1990,1991,1992,1993,1994,1995,1996,1997,1998,1999,2000,2001,2002,2003,2004,2005,2006,2007,2008,2009,2010,2011,2012,2013,2014,2015,2016,2017,2018,2019,2020],\"xaxis\":\"x\",\"y\":[0.34487805886666667,0.4341948697183099,0.371732725027027,0.5817009136440677,0.4182973612230216,0.3330931111175617,0.39132849865040653,0.4948354801348136,0.21520403106092437,0.3522059281652807,0.22141964161490682,0.22635657916334662,0.18394893968162082,0.2763822666435986,0.22587329808959158,0.2571099957181818,0.3270876216438356,0.3784246349265905,0.27768246941,0.316848699865,0.44495163931250004,0.3928820478715815,0.40989692346478873,0.4492919654122341,0.275894257015,0.4861264096461717,0.3475934179090909,0.3554848223842105,0.29776153619,0.24500082001499998,0.30843785558500003,0.28841264693,0.31832239432307696,0.29744000827999995,0.21660442169000002,0.23876341778,0.19452061616923078,0.18124111006000002,0.18814819406153846,0.17650215942162162,0.2646232531421053,0.17147155094210528,0.18543231468,0.15959780177948718,0.1183659460923077,0.115125955565,0.11894685467233616,0.112776949285,0.15945270816499998,0.127567003085,0.12501788922999998,0.11488033376,0.09968022322999999,0.11636098351,0.11132203374499999,0.12162904397999999,0.12772103194499998,0.10038121451,0.115751372015,0.12875106127179486,0.14683794662,0.100016383,0.14541052328999998,0.145173039735,0.113738558075,0.109940854365,0.10197451746666666,0.11719038022051283,0.11318254461499999,0.125826268095,0.1150923398,0.10069008306499999,0.11529396538,0.11188575995,0.12326879606999999,0.095052812035,0.10469017861999999,0.11132575035,0.09406814106611994,0.10116776879345603,0.1072140189925187,0.088048350315,0.08304927466734903,0.07793403490844353,0.09019436118461538,0.07770147187692308,0.07295726805128204,0.06366209031713554,0.07587207368367348,0.08298056821924603,0.10377233216658403,0.08520552067866324,0.09836505391700405,0.07656955483790524,0.10678687805471125,0.09398438711741791,0.09709060906626507,0.05421712166904422,0.07764024697280657,0.01637552430541872],\"yaxis\":\"y\",\"type\":\"scatter\"},{\"hovertemplate\":\"variable=liveness\\u003cbr\\u003eyear=%{x}\\u003cbr\\u003evalue=%{y}\\u003cextra\\u003e\\u003c\\u002fextra\\u003e\",\"legendgroup\":\"liveness\",\"line\":{\"color\":\"#FFA15A\",\"dash\":\"solid\"},\"marker\":{\"symbol\":\"circle\"},\"mode\":\"lines\",\"name\":\"liveness\",\"orientation\":\"v\",\"showlegend\":true,\"x\":[1921,1922,1923,1924,1925,1926,1927,1928,1929,1930,1931,1932,1933,1934,1935,1936,1937,1938,1939,1940,1941,1942,1943,1944,1945,1946,1947,1948,1949,1950,1951,1952,1953,1954,1955,1956,1957,1958,1959,1960,1961,1962,1963,1964,1965,1966,1967,1968,1969,1970,1971,1972,1973,1974,1975,1976,1977,1978,1979,1980,1981,1982,1983,1984,1985,1986,1987,1988,1989,1990,1991,1992,1993,1994,1995,1996,1997,1998,1999,2000,2001,2002,2003,2004,2005,2006,2007,2008,2009,2010,2011,2012,2013,2014,2015,2016,2017,2018,2019,2020],\"xaxis\":\"x\",\"y\":[0.20571,0.24071971830985917,0.22746216216216217,0.23521906779661017,0.23766798561151076,0.23236959361393325,0.16845024390243904,0.17528937351308485,0.23600021008403363,0.2213108627858628,0.227427950310559,0.2324962151394422,0.20907192474674388,0.21345259515570936,0.22929986824769433,0.22143827272727273,0.22596773211567733,0.2371110929853181,0.2391016,0.2643351,0.20183989583333334,0.21287841854934603,0.2392107042253521,0.2387719414893617,0.20300995,0.2108183294663573,0.2238293939393939,0.21969357894736843,0.20885855,0.21695840000000002,0.2177774,0.2329723,0.2217340512820513,0.21784115,0.22143535,0.18225715,0.1827485641025641,0.20584085,0.19184292307692308,0.20786372972972972,0.20891257894736842,0.20189573684210527,0.2037453,0.21723235897435897,0.21383912820512818,0.21809309999999998,0.19091765882941472,0.21735095000000001,0.2069659,0.2122688,0.21491454999999998,0.20695495,0.20137475000000002,0.20934635000000001,0.21544135,0.24903219999999998,0.22321405,0.21807095,0.2134431,0.20375410256410256,0.2250999,0.20100675,0.19892245,0.1977062,0.19920644999999998,0.21187945,0.20201810256410255,0.20770753846153844,0.19908019999999998,0.19096090000000002,0.18862892307692306,0.2002455,0.19493225,0.1921651,0.2013737,0.19868629999999998,0.1984788,0.19373089999999998,0.20630804715530499,0.19768604294478528,0.18702563591022445,0.1939112,0.19697630501535313,0.2021994404883011,0.19008162564102565,0.18828928205128206,0.1961265641025641,0.19843140664961637,0.20525229591836733,0.19970064484126984,0.20330882498760536,0.18973300771208226,0.1996308198380567,0.19182159600997506,0.1888564336372847,0.18116989426822483,0.19171260040160643,0.1763255349500713,0.17261641867624422,0.17853541871921183],\"yaxis\":\"y\",\"type\":\"scatter\"},{\"hovertemplate\":\"variable=valence\\u003cbr\\u003eyear=%{x}\\u003cbr\\u003evalue=%{y}\\u003cextra\\u003e\\u003c\\u002fextra\\u003e\",\"legendgroup\":\"valence\",\"line\":{\"color\":\"#19d3f3\",\"dash\":\"solid\"},\"marker\":{\"symbol\":\"circle\"},\"mode\":\"lines\",\"name\":\"valence\",\"orientation\":\"v\",\"showlegend\":true,\"x\":[1921,1922,1923,1924,1925,1926,1927,1928,1929,1930,1931,1932,1933,1934,1935,1936,1937,1938,1939,1940,1941,1942,1943,1944,1945,1946,1947,1948,1949,1950,1951,1952,1953,1954,1955,1956,1957,1958,1959,1960,1961,1962,1963,1964,1965,1966,1967,1968,1969,1970,1971,1972,1973,1974,1975,1976,1977,1978,1979,1980,1981,1982,1983,1984,1985,1986,1987,1988,1989,1990,1991,1992,1993,1994,1995,1996,1997,1998,1999,2000,2001,2002,2003,2004,2005,2006,2007,2008,2009,2010,2011,2012,2013,2014,2015,2016,2017,2018,2019,2020],\"xaxis\":\"x\",\"y\":[0.37932666666666665,0.5355492957746479,0.6254924324324325,0.6637254237288135,0.6219287769784172,0.4369104571843251,0.659700487804878,0.49571268834258525,0.6365298319327731,0.61623762993763,0.5131170807453417,0.5881599601593626,0.59940998552822,0.5588046712802768,0.5455777997364953,0.5640635454545455,0.5857894977168949,0.5149111092985318,0.5599249,0.61670947,0.47945604166666667,0.4774088585017836,0.4954545070422535,0.5406954787234043,0.49136135000000003,0.3982538283062645,0.5082125454545454,0.46214236842105266,0.4304195,0.5516497,0.44134755000000003,0.44313496205,0.4291420512820513,0.45234105,0.4724155,0.50842305,0.5110101538461538,0.4976615,0.478415641025641,0.5239316756756757,0.5128512105263158,0.547792052631579,0.54152745,0.5572604205128204,0.5809506666666667,0.58014455,0.550791695847924,0.56599365,0.554745285,0.5720753999999999,0.5749132499999999,0.59568815,0.5921162000000001,0.5812744,0.5694151500000001,0.58073325,0.5852465499999999,0.5895352500000001,0.6099818,0.5980580512820513,0.58295185,0.58643845,0.5721199,0.55163871,0.56559645,0.55094855,0.5414511794871795,0.5464853897435897,0.5483329,0.52652685,0.5486552307692307,0.5590983,0.55556845,0.52664915,0.5302467000000001,0.56087325,0.5485525,0.5377209000000001,0.5564528446950282,0.5594754601226994,0.5414791072319202,0.54239715,0.5305042476970317,0.5244885554425229,0.5325309230769232,0.5200283076923077,0.5167938461538462,0.5275418925831202,0.5071696617346939,0.5208951587301587,0.4724536787307883,0.46270901285347044,0.4547411943319838,0.46304877805486283,0.4320983687943262,0.43153205898720093,0.4164763112449799,0.44792127436994766,0.4588176295536172,0.5010478078817734],\"yaxis\":\"y\",\"type\":\"scatter\"}],                        {\"template\":{\"data\":{\"histogram2dcontour\":[{\"type\":\"histogram2dcontour\",\"colorbar\":{\"outlinewidth\":0,\"ticks\":\"\"},\"colorscale\":[[0.0,\"#0d0887\"],[0.1111111111111111,\"#46039f\"],[0.2222222222222222,\"#7201a8\"],[0.3333333333333333,\"#9c179e\"],[0.4444444444444444,\"#bd3786\"],[0.5555555555555556,\"#d8576b\"],[0.6666666666666666,\"#ed7953\"],[0.7777777777777778,\"#fb9f3a\"],[0.8888888888888888,\"#fdca26\"],[1.0,\"#f0f921\"]]}],\"choropleth\":[{\"type\":\"choropleth\",\"colorbar\":{\"outlinewidth\":0,\"ticks\":\"\"}}],\"histogram2d\":[{\"type\":\"histogram2d\",\"colorbar\":{\"outlinewidth\":0,\"ticks\":\"\"},\"colorscale\":[[0.0,\"#0d0887\"],[0.1111111111111111,\"#46039f\"],[0.2222222222222222,\"#7201a8\"],[0.3333333333333333,\"#9c179e\"],[0.4444444444444444,\"#bd3786\"],[0.5555555555555556,\"#d8576b\"],[0.6666666666666666,\"#ed7953\"],[0.7777777777777778,\"#fb9f3a\"],[0.8888888888888888,\"#fdca26\"],[1.0,\"#f0f921\"]]}],\"heatmap\":[{\"type\":\"heatmap\",\"colorbar\":{\"outlinewidth\":0,\"ticks\":\"\"},\"colorscale\":[[0.0,\"#0d0887\"],[0.1111111111111111,\"#46039f\"],[0.2222222222222222,\"#7201a8\"],[0.3333333333333333,\"#9c179e\"],[0.4444444444444444,\"#bd3786\"],[0.5555555555555556,\"#d8576b\"],[0.6666666666666666,\"#ed7953\"],[0.7777777777777778,\"#fb9f3a\"],[0.8888888888888888,\"#fdca26\"],[1.0,\"#f0f921\"]]}],\"heatmapgl\":[{\"type\":\"heatmapgl\",\"colorbar\":{\"outlinewidth\":0,\"ticks\":\"\"},\"colorscale\":[[0.0,\"#0d0887\"],[0.1111111111111111,\"#46039f\"],[0.2222222222222222,\"#7201a8\"],[0.3333333333333333,\"#9c179e\"],[0.4444444444444444,\"#bd3786\"],[0.5555555555555556,\"#d8576b\"],[0.6666666666666666,\"#ed7953\"],[0.7777777777777778,\"#fb9f3a\"],[0.8888888888888888,\"#fdca26\"],[1.0,\"#f0f921\"]]}],\"contourcarpet\":[{\"type\":\"contourcarpet\",\"colorbar\":{\"outlinewidth\":0,\"ticks\":\"\"}}],\"contour\":[{\"type\":\"contour\",\"colorbar\":{\"outlinewidth\":0,\"ticks\":\"\"},\"colorscale\":[[0.0,\"#0d0887\"],[0.1111111111111111,\"#46039f\"],[0.2222222222222222,\"#7201a8\"],[0.3333333333333333,\"#9c179e\"],[0.4444444444444444,\"#bd3786\"],[0.5555555555555556,\"#d8576b\"],[0.6666666666666666,\"#ed7953\"],[0.7777777777777778,\"#fb9f3a\"],[0.8888888888888888,\"#fdca26\"],[1.0,\"#f0f921\"]]}],\"surface\":[{\"type\":\"surface\",\"colorbar\":{\"outlinewidth\":0,\"ticks\":\"\"},\"colorscale\":[[0.0,\"#0d0887\"],[0.1111111111111111,\"#46039f\"],[0.2222222222222222,\"#7201a8\"],[0.3333333333333333,\"#9c179e\"],[0.4444444444444444,\"#bd3786\"],[0.5555555555555556,\"#d8576b\"],[0.6666666666666666,\"#ed7953\"],[0.7777777777777778,\"#fb9f3a\"],[0.8888888888888888,\"#fdca26\"],[1.0,\"#f0f921\"]]}],\"mesh3d\":[{\"type\":\"mesh3d\",\"colorbar\":{\"outlinewidth\":0,\"ticks\":\"\"}}],\"scatter\":[{\"fillpattern\":{\"fillmode\":\"overlay\",\"size\":10,\"solidity\":0.2},\"type\":\"scatter\"}],\"parcoords\":[{\"type\":\"parcoords\",\"line\":{\"colorbar\":{\"outlinewidth\":0,\"ticks\":\"\"}}}],\"scatterpolargl\":[{\"type\":\"scatterpolargl\",\"marker\":{\"colorbar\":{\"outlinewidth\":0,\"ticks\":\"\"}}}],\"bar\":[{\"error_x\":{\"color\":\"#2a3f5f\"},\"error_y\":{\"color\":\"#2a3f5f\"},\"marker\":{\"line\":{\"color\":\"#E5ECF6\",\"width\":0.5},\"pattern\":{\"fillmode\":\"overlay\",\"size\":10,\"solidity\":0.2}},\"type\":\"bar\"}],\"scattergeo\":[{\"type\":\"scattergeo\",\"marker\":{\"colorbar\":{\"outlinewidth\":0,\"ticks\":\"\"}}}],\"scatterpolar\":[{\"type\":\"scatterpolar\",\"marker\":{\"colorbar\":{\"outlinewidth\":0,\"ticks\":\"\"}}}],\"histogram\":[{\"marker\":{\"pattern\":{\"fillmode\":\"overlay\",\"size\":10,\"solidity\":0.2}},\"type\":\"histogram\"}],\"scattergl\":[{\"type\":\"scattergl\",\"marker\":{\"colorbar\":{\"outlinewidth\":0,\"ticks\":\"\"}}}],\"scatter3d\":[{\"type\":\"scatter3d\",\"line\":{\"colorbar\":{\"outlinewidth\":0,\"ticks\":\"\"}},\"marker\":{\"colorbar\":{\"outlinewidth\":0,\"ticks\":\"\"}}}],\"scattermapbox\":[{\"type\":\"scattermapbox\",\"marker\":{\"colorbar\":{\"outlinewidth\":0,\"ticks\":\"\"}}}],\"scatterternary\":[{\"type\":\"scatterternary\",\"marker\":{\"colorbar\":{\"outlinewidth\":0,\"ticks\":\"\"}}}],\"scattercarpet\":[{\"type\":\"scattercarpet\",\"marker\":{\"colorbar\":{\"outlinewidth\":0,\"ticks\":\"\"}}}],\"carpet\":[{\"aaxis\":{\"endlinecolor\":\"#2a3f5f\",\"gridcolor\":\"white\",\"linecolor\":\"white\",\"minorgridcolor\":\"white\",\"startlinecolor\":\"#2a3f5f\"},\"baxis\":{\"endlinecolor\":\"#2a3f5f\",\"gridcolor\":\"white\",\"linecolor\":\"white\",\"minorgridcolor\":\"white\",\"startlinecolor\":\"#2a3f5f\"},\"type\":\"carpet\"}],\"table\":[{\"cells\":{\"fill\":{\"color\":\"#EBF0F8\"},\"line\":{\"color\":\"white\"}},\"header\":{\"fill\":{\"color\":\"#C8D4E3\"},\"line\":{\"color\":\"white\"}},\"type\":\"table\"}],\"barpolar\":[{\"marker\":{\"line\":{\"color\":\"#E5ECF6\",\"width\":0.5},\"pattern\":{\"fillmode\":\"overlay\",\"size\":10,\"solidity\":0.2}},\"type\":\"barpolar\"}],\"pie\":[{\"automargin\":true,\"type\":\"pie\"}]},\"layout\":{\"autotypenumbers\":\"strict\",\"colorway\":[\"#636efa\",\"#EF553B\",\"#00cc96\",\"#ab63fa\",\"#FFA15A\",\"#19d3f3\",\"#FF6692\",\"#B6E880\",\"#FF97FF\",\"#FECB52\"],\"font\":{\"color\":\"#2a3f5f\"},\"hovermode\":\"closest\",\"hoverlabel\":{\"align\":\"left\"},\"paper_bgcolor\":\"white\",\"plot_bgcolor\":\"#E5ECF6\",\"polar\":{\"bgcolor\":\"#E5ECF6\",\"angularaxis\":{\"gridcolor\":\"white\",\"linecolor\":\"white\",\"ticks\":\"\"},\"radialaxis\":{\"gridcolor\":\"white\",\"linecolor\":\"white\",\"ticks\":\"\"}},\"ternary\":{\"bgcolor\":\"#E5ECF6\",\"aaxis\":{\"gridcolor\":\"white\",\"linecolor\":\"white\",\"ticks\":\"\"},\"baxis\":{\"gridcolor\":\"white\",\"linecolor\":\"white\",\"ticks\":\"\"},\"caxis\":{\"gridcolor\":\"white\",\"linecolor\":\"white\",\"ticks\":\"\"}},\"coloraxis\":{\"colorbar\":{\"outlinewidth\":0,\"ticks\":\"\"}},\"colorscale\":{\"sequential\":[[0.0,\"#0d0887\"],[0.1111111111111111,\"#46039f\"],[0.2222222222222222,\"#7201a8\"],[0.3333333333333333,\"#9c179e\"],[0.4444444444444444,\"#bd3786\"],[0.5555555555555556,\"#d8576b\"],[0.6666666666666666,\"#ed7953\"],[0.7777777777777778,\"#fb9f3a\"],[0.8888888888888888,\"#fdca26\"],[1.0,\"#f0f921\"]],\"sequentialminus\":[[0.0,\"#0d0887\"],[0.1111111111111111,\"#46039f\"],[0.2222222222222222,\"#7201a8\"],[0.3333333333333333,\"#9c179e\"],[0.4444444444444444,\"#bd3786\"],[0.5555555555555556,\"#d8576b\"],[0.6666666666666666,\"#ed7953\"],[0.7777777777777778,\"#fb9f3a\"],[0.8888888888888888,\"#fdca26\"],[1.0,\"#f0f921\"]],\"diverging\":[[0,\"#8e0152\"],[0.1,\"#c51b7d\"],[0.2,\"#de77ae\"],[0.3,\"#f1b6da\"],[0.4,\"#fde0ef\"],[0.5,\"#f7f7f7\"],[0.6,\"#e6f5d0\"],[0.7,\"#b8e186\"],[0.8,\"#7fbc41\"],[0.9,\"#4d9221\"],[1,\"#276419\"]]},\"xaxis\":{\"gridcolor\":\"white\",\"linecolor\":\"white\",\"ticks\":\"\",\"title\":{\"standoff\":15},\"zerolinecolor\":\"white\",\"automargin\":true,\"zerolinewidth\":2},\"yaxis\":{\"gridcolor\":\"white\",\"linecolor\":\"white\",\"ticks\":\"\",\"title\":{\"standoff\":15},\"zerolinecolor\":\"white\",\"automargin\":true,\"zerolinewidth\":2},\"scene\":{\"xaxis\":{\"backgroundcolor\":\"#E5ECF6\",\"gridcolor\":\"white\",\"linecolor\":\"white\",\"showbackground\":true,\"ticks\":\"\",\"zerolinecolor\":\"white\",\"gridwidth\":2},\"yaxis\":{\"backgroundcolor\":\"#E5ECF6\",\"gridcolor\":\"white\",\"linecolor\":\"white\",\"showbackground\":true,\"ticks\":\"\",\"zerolinecolor\":\"white\",\"gridwidth\":2},\"zaxis\":{\"backgroundcolor\":\"#E5ECF6\",\"gridcolor\":\"white\",\"linecolor\":\"white\",\"showbackground\":true,\"ticks\":\"\",\"zerolinecolor\":\"white\",\"gridwidth\":2}},\"shapedefaults\":{\"line\":{\"color\":\"#2a3f5f\"}},\"annotationdefaults\":{\"arrowcolor\":\"#2a3f5f\",\"arrowhead\":0,\"arrowwidth\":1},\"geo\":{\"bgcolor\":\"white\",\"landcolor\":\"#E5ECF6\",\"subunitcolor\":\"white\",\"showland\":true,\"showlakes\":true,\"lakecolor\":\"white\"},\"title\":{\"x\":0.05},\"mapbox\":{\"style\":\"light\"}}},\"xaxis\":{\"anchor\":\"y\",\"domain\":[0.0,1.0],\"title\":{\"text\":\"year\"}},\"yaxis\":{\"anchor\":\"x\",\"domain\":[0.0,1.0],\"title\":{\"text\":\"value\"}},\"legend\":{\"title\":{\"text\":\"variable\"},\"tracegroupgap\":0},\"margin\":{\"t\":60}},                        {\"responsive\": true}                    ).then(function(){\n",
              "                            \n",
              "var gd = document.getElementById('058a899d-7504-48e4-bfc7-778ecb100ae0');\n",
              "var x = new MutationObserver(function (mutations, observer) {{\n",
              "        var display = window.getComputedStyle(gd).display;\n",
              "        if (!display || display === 'none') {{\n",
              "            console.log([gd, 'removed!']);\n",
              "            Plotly.purge(gd);\n",
              "            observer.disconnect();\n",
              "        }}\n",
              "}});\n",
              "\n",
              "// Listen for the removal of the full notebook cells\n",
              "var notebookContainer = gd.closest('#notebook-container');\n",
              "if (notebookContainer) {{\n",
              "    x.observe(notebookContainer, {childList: true});\n",
              "}}\n",
              "\n",
              "// Listen for the clearing of the current output cell\n",
              "var outputEl = gd.closest('.output');\n",
              "if (outputEl) {{\n",
              "    x.observe(outputEl, {childList: true});\n",
              "}}\n",
              "\n",
              "                        })                };                            </script>        </div>\n",
              "</body>\n",
              "</html>"
            ]
          },
          "metadata": {}
        }
      ]
    },
    {
      "cell_type": "code",
      "source": [
        "# Function to prepare the data for Prophet\n",
        "def prepare_prophet_data(df, feature):\n",
        "    df_prophet = df[['year', feature]].rename(columns={'year': 'ds', feature: 'y'})\n",
        "    return df_prophet\n",
        "\n",
        "# Forecasting each sound feature using Prophet\n",
        "future_years = pd.DataFrame({'ds': pd.date_range(start='2021', end='2075', freq='Y')})\n",
        "\n",
        "forecast_dfs = []\n",
        "for feature in sound_features:\n",
        "    df_prophet = prepare_prophet_data(mean_data, feature)  # Use mean_data here\n",
        "    model = Prophet()\n",
        "    model.fit(df_prophet)\n",
        "    forecast = model.predict(future_years)\n",
        "    forecast['feature'] = feature\n",
        "    forecast_dfs.append(forecast[['ds', 'yhat', 'feature']])\n",
        "\n",
        "# Combine all forecasts\n",
        "all_forecasts = pd.concat(forecast_dfs)\n",
        "\n",
        "# Plot the forecasts\n",
        "fig = px.line(all_forecasts, x='ds', y='yhat', color='feature',\n",
        "              labels={'ds': 'Year', 'yhat': 'Value', 'feature': 'Feature'},\n",
        "              title='Sound Feature Predictions for 2075')\n",
        "fig.show()"
      ],
      "metadata": {
        "colab": {
          "base_uri": "https://localhost:8080/",
          "height": 1000
        },
        "id": "zKIverEghXy-",
        "outputId": "c299a9a4-f381-48bc-8bd0-cf4198774c54"
      },
      "execution_count": null,
      "outputs": [
        {
          "output_type": "stream",
          "name": "stderr",
          "text": [
            "INFO:prophet:Disabling weekly seasonality. Run prophet with weekly_seasonality=True to override this.\n",
            "INFO:prophet:Disabling daily seasonality. Run prophet with daily_seasonality=True to override this.\n",
            "DEBUG:cmdstanpy:input tempfile: /tmp/tmpv9y3f2js/a49t1jsb.json\n",
            "DEBUG:cmdstanpy:input tempfile: /tmp/tmpv9y3f2js/8hr3z3wl.json\n",
            "DEBUG:cmdstanpy:idx 0\n",
            "DEBUG:cmdstanpy:running CmdStan, num_threads: None\n",
            "DEBUG:cmdstanpy:CmdStan args: ['/usr/local/lib/python3.10/dist-packages/prophet/stan_model/prophet_model.bin', 'random', 'seed=31633', 'data', 'file=/tmp/tmpv9y3f2js/a49t1jsb.json', 'init=/tmp/tmpv9y3f2js/8hr3z3wl.json', 'output', 'file=/tmp/tmpv9y3f2js/prophet_modelaqnjp4_p/prophet_model-20240713060735.csv', 'method=optimize', 'algorithm=lbfgs', 'iter=10000']\n",
            "06:07:35 - cmdstanpy - INFO - Chain [1] start processing\n",
            "INFO:cmdstanpy:Chain [1] start processing\n",
            "06:07:35 - cmdstanpy - INFO - Chain [1] done processing\n",
            "INFO:cmdstanpy:Chain [1] done processing\n",
            "INFO:prophet:Disabling weekly seasonality. Run prophet with weekly_seasonality=True to override this.\n",
            "INFO:prophet:Disabling daily seasonality. Run prophet with daily_seasonality=True to override this.\n",
            "DEBUG:cmdstanpy:input tempfile: /tmp/tmpv9y3f2js/6a9u9i7w.json\n",
            "DEBUG:cmdstanpy:input tempfile: /tmp/tmpv9y3f2js/fpygrdz_.json\n",
            "DEBUG:cmdstanpy:idx 0\n",
            "DEBUG:cmdstanpy:running CmdStan, num_threads: None\n",
            "DEBUG:cmdstanpy:CmdStan args: ['/usr/local/lib/python3.10/dist-packages/prophet/stan_model/prophet_model.bin', 'random', 'seed=98725', 'data', 'file=/tmp/tmpv9y3f2js/6a9u9i7w.json', 'init=/tmp/tmpv9y3f2js/fpygrdz_.json', 'output', 'file=/tmp/tmpv9y3f2js/prophet_model8wjb3tfi/prophet_model-20240713060736.csv', 'method=optimize', 'algorithm=lbfgs', 'iter=10000']\n",
            "06:07:36 - cmdstanpy - INFO - Chain [1] start processing\n",
            "INFO:cmdstanpy:Chain [1] start processing\n",
            "06:07:36 - cmdstanpy - INFO - Chain [1] done processing\n",
            "INFO:cmdstanpy:Chain [1] done processing\n",
            "INFO:prophet:Disabling weekly seasonality. Run prophet with weekly_seasonality=True to override this.\n",
            "INFO:prophet:Disabling daily seasonality. Run prophet with daily_seasonality=True to override this.\n",
            "DEBUG:cmdstanpy:input tempfile: /tmp/tmpv9y3f2js/g8c2c1ck.json\n",
            "DEBUG:cmdstanpy:input tempfile: /tmp/tmpv9y3f2js/t6otwiil.json\n",
            "DEBUG:cmdstanpy:idx 0\n",
            "DEBUG:cmdstanpy:running CmdStan, num_threads: None\n",
            "DEBUG:cmdstanpy:CmdStan args: ['/usr/local/lib/python3.10/dist-packages/prophet/stan_model/prophet_model.bin', 'random', 'seed=27999', 'data', 'file=/tmp/tmpv9y3f2js/g8c2c1ck.json', 'init=/tmp/tmpv9y3f2js/t6otwiil.json', 'output', 'file=/tmp/tmpv9y3f2js/prophet_modelalxraee7/prophet_model-20240713060736.csv', 'method=optimize', 'algorithm=lbfgs', 'iter=10000']\n",
            "06:07:36 - cmdstanpy - INFO - Chain [1] start processing\n",
            "INFO:cmdstanpy:Chain [1] start processing\n",
            "06:07:36 - cmdstanpy - INFO - Chain [1] done processing\n",
            "INFO:cmdstanpy:Chain [1] done processing\n",
            "INFO:prophet:Disabling weekly seasonality. Run prophet with weekly_seasonality=True to override this.\n",
            "INFO:prophet:Disabling daily seasonality. Run prophet with daily_seasonality=True to override this.\n",
            "DEBUG:cmdstanpy:input tempfile: /tmp/tmpv9y3f2js/0610j5bb.json\n",
            "DEBUG:cmdstanpy:input tempfile: /tmp/tmpv9y3f2js/v_dyabrz.json\n",
            "DEBUG:cmdstanpy:idx 0\n",
            "DEBUG:cmdstanpy:running CmdStan, num_threads: None\n",
            "DEBUG:cmdstanpy:CmdStan args: ['/usr/local/lib/python3.10/dist-packages/prophet/stan_model/prophet_model.bin', 'random', 'seed=75527', 'data', 'file=/tmp/tmpv9y3f2js/0610j5bb.json', 'init=/tmp/tmpv9y3f2js/v_dyabrz.json', 'output', 'file=/tmp/tmpv9y3f2js/prophet_modelw79zl3j7/prophet_model-20240713060737.csv', 'method=optimize', 'algorithm=lbfgs', 'iter=10000']\n",
            "06:07:37 - cmdstanpy - INFO - Chain [1] start processing\n",
            "INFO:cmdstanpy:Chain [1] start processing\n",
            "06:07:37 - cmdstanpy - INFO - Chain [1] done processing\n",
            "INFO:cmdstanpy:Chain [1] done processing\n",
            "INFO:prophet:Disabling weekly seasonality. Run prophet with weekly_seasonality=True to override this.\n",
            "INFO:prophet:Disabling daily seasonality. Run prophet with daily_seasonality=True to override this.\n",
            "DEBUG:cmdstanpy:input tempfile: /tmp/tmpv9y3f2js/oqmaux4i.json\n",
            "DEBUG:cmdstanpy:input tempfile: /tmp/tmpv9y3f2js/qtfin7i7.json\n",
            "DEBUG:cmdstanpy:idx 0\n",
            "DEBUG:cmdstanpy:running CmdStan, num_threads: None\n",
            "DEBUG:cmdstanpy:CmdStan args: ['/usr/local/lib/python3.10/dist-packages/prophet/stan_model/prophet_model.bin', 'random', 'seed=85725', 'data', 'file=/tmp/tmpv9y3f2js/oqmaux4i.json', 'init=/tmp/tmpv9y3f2js/qtfin7i7.json', 'output', 'file=/tmp/tmpv9y3f2js/prophet_model4wyyxn5w/prophet_model-20240713060738.csv', 'method=optimize', 'algorithm=lbfgs', 'iter=10000']\n",
            "06:07:38 - cmdstanpy - INFO - Chain [1] start processing\n",
            "INFO:cmdstanpy:Chain [1] start processing\n",
            "06:07:38 - cmdstanpy - INFO - Chain [1] done processing\n",
            "INFO:cmdstanpy:Chain [1] done processing\n",
            "INFO:prophet:Disabling weekly seasonality. Run prophet with weekly_seasonality=True to override this.\n",
            "INFO:prophet:Disabling daily seasonality. Run prophet with daily_seasonality=True to override this.\n",
            "DEBUG:cmdstanpy:input tempfile: /tmp/tmpv9y3f2js/0ywi57pf.json\n",
            "DEBUG:cmdstanpy:input tempfile: /tmp/tmpv9y3f2js/05s6e43c.json\n",
            "DEBUG:cmdstanpy:idx 0\n",
            "DEBUG:cmdstanpy:running CmdStan, num_threads: None\n",
            "DEBUG:cmdstanpy:CmdStan args: ['/usr/local/lib/python3.10/dist-packages/prophet/stan_model/prophet_model.bin', 'random', 'seed=64588', 'data', 'file=/tmp/tmpv9y3f2js/0ywi57pf.json', 'init=/tmp/tmpv9y3f2js/05s6e43c.json', 'output', 'file=/tmp/tmpv9y3f2js/prophet_model0bk8nmab/prophet_model-20240713060739.csv', 'method=optimize', 'algorithm=lbfgs', 'iter=10000']\n",
            "06:07:39 - cmdstanpy - INFO - Chain [1] start processing\n",
            "INFO:cmdstanpy:Chain [1] start processing\n",
            "06:07:39 - cmdstanpy - INFO - Chain [1] done processing\n",
            "INFO:cmdstanpy:Chain [1] done processing\n"
          ]
        },
        {
          "output_type": "display_data",
          "data": {
            "text/html": [
              "<html>\n",
              "<head><meta charset=\"utf-8\" /></head>\n",
              "<body>\n",
              "    <div>            <script src=\"https://cdnjs.cloudflare.com/ajax/libs/mathjax/2.7.5/MathJax.js?config=TeX-AMS-MML_SVG\"></script><script type=\"text/javascript\">if (window.MathJax && window.MathJax.Hub && window.MathJax.Hub.Config) {window.MathJax.Hub.Config({SVG: {font: \"STIX-Web\"}});}</script>                <script type=\"text/javascript\">window.PlotlyConfig = {MathJaxConfig: 'local'};</script>\n",
              "        <script charset=\"utf-8\" src=\"https://cdn.plot.ly/plotly-2.24.1.min.js\"></script>                <div id=\"5754ad2c-cdec-44e2-a16a-f7f75ee1e70b\" class=\"plotly-graph-div\" style=\"height:525px; width:100%;\"></div>            <script type=\"text/javascript\">                                    window.PLOTLYENV=window.PLOTLYENV || {};                                    if (document.getElementById(\"5754ad2c-cdec-44e2-a16a-f7f75ee1e70b\")) {                    Plotly.newPlot(                        \"5754ad2c-cdec-44e2-a16a-f7f75ee1e70b\",                        [{\"hovertemplate\":\"Feature=acousticness\\u003cbr\\u003eYear=%{x}\\u003cbr\\u003eValue=%{y}\\u003cextra\\u003e\\u003c\\u002fextra\\u003e\",\"legendgroup\":\"acousticness\",\"line\":{\"color\":\"#636efa\",\"dash\":\"solid\"},\"marker\":{\"symbol\":\"circle\"},\"mode\":\"lines\",\"name\":\"acousticness\",\"orientation\":\"v\",\"showlegend\":true,\"x\":[\"2021-12-31T00:00:00\",\"2022-12-31T00:00:00\",\"2023-12-31T00:00:00\",\"2024-12-31T00:00:00\",\"2025-12-31T00:00:00\",\"2026-12-31T00:00:00\",\"2027-12-31T00:00:00\",\"2028-12-31T00:00:00\",\"2029-12-31T00:00:00\",\"2030-12-31T00:00:00\",\"2031-12-31T00:00:00\",\"2032-12-31T00:00:00\",\"2033-12-31T00:00:00\",\"2034-12-31T00:00:00\",\"2035-12-31T00:00:00\",\"2036-12-31T00:00:00\",\"2037-12-31T00:00:00\",\"2038-12-31T00:00:00\",\"2039-12-31T00:00:00\",\"2040-12-31T00:00:00\",\"2041-12-31T00:00:00\",\"2042-12-31T00:00:00\",\"2043-12-31T00:00:00\",\"2044-12-31T00:00:00\",\"2045-12-31T00:00:00\",\"2046-12-31T00:00:00\",\"2047-12-31T00:00:00\",\"2048-12-31T00:00:00\",\"2049-12-31T00:00:00\",\"2050-12-31T00:00:00\",\"2051-12-31T00:00:00\",\"2052-12-31T00:00:00\",\"2053-12-31T00:00:00\",\"2054-12-31T00:00:00\",\"2055-12-31T00:00:00\",\"2056-12-31T00:00:00\",\"2057-12-31T00:00:00\",\"2058-12-31T00:00:00\",\"2059-12-31T00:00:00\",\"2060-12-31T00:00:00\",\"2061-12-31T00:00:00\",\"2062-12-31T00:00:00\",\"2063-12-31T00:00:00\",\"2064-12-31T00:00:00\",\"2065-12-31T00:00:00\",\"2066-12-31T00:00:00\",\"2067-12-31T00:00:00\",\"2068-12-31T00:00:00\",\"2069-12-31T00:00:00\",\"2070-12-31T00:00:00\",\"2071-12-31T00:00:00\",\"2072-12-31T00:00:00\",\"2073-12-31T00:00:00\",\"2074-12-31T00:00:00\"],\"xaxis\":\"x\",\"y\":[0.16648170437819182,0.1672285337432961,0.16785793405113442,0.13638931924554357,0.13724380122526017,0.13799063059034478,0.13862003089813618,0.10715141609259642,0.10800589807238002,0.1087527274373728,0.10938212774528469,0.0779135129397293,0.07876799491936917,0.07951482428456784,0.08014422459230261,0.048675609786685295,0.04953009176633738,0.05027692113153698,0.050906321439262436,0.019437706633722157,0.020292188613489123,0.021039017978522423,0.021668418286434163,-0.009800196519100496,-0.008945714539493776,-0.00819888517442946,-0.0075694848665480985,-0.03903809967212565,-0.03818361769251677,-0.03743678832735653,-0.03680738801956884,-0.06827600282514129,-0.06742152084540493,-0.06667469148023836,-0.06604529117253022,-0.09751390597808422,-0.09665942399830041,-0.09591259463329949,-0.09528319432537938,-0.12675180913096373,-0.1258973271513079,-0.12515049778610932,-0.1245210974784016,-0.15598971228394717,-0.15513523030436305,-0.15438840093917966,-0.15375900063140005,-0.18522761543698674,-0.1843731334572026,-0.18362630409216235,-0.18299690378419695,-0.21446551858983431,-0.21361103661018552,-0.21286420724509023],\"yaxis\":\"y\",\"type\":\"scatter\"},{\"hovertemplate\":\"Feature=danceability\\u003cbr\\u003eYear=%{x}\\u003cbr\\u003eValue=%{y}\\u003cextra\\u003e\\u003c\\u002fextra\\u003e\",\"legendgroup\":\"danceability\",\"line\":{\"color\":\"#EF553B\",\"dash\":\"solid\"},\"marker\":{\"symbol\":\"circle\"},\"mode\":\"lines\",\"name\":\"danceability\",\"orientation\":\"v\",\"showlegend\":true,\"x\":[\"2021-12-31T00:00:00\",\"2022-12-31T00:00:00\",\"2023-12-31T00:00:00\",\"2024-12-31T00:00:00\",\"2025-12-31T00:00:00\",\"2026-12-31T00:00:00\",\"2027-12-31T00:00:00\",\"2028-12-31T00:00:00\",\"2029-12-31T00:00:00\",\"2030-12-31T00:00:00\",\"2031-12-31T00:00:00\",\"2032-12-31T00:00:00\",\"2033-12-31T00:00:00\",\"2034-12-31T00:00:00\",\"2035-12-31T00:00:00\",\"2036-12-31T00:00:00\",\"2037-12-31T00:00:00\",\"2038-12-31T00:00:00\",\"2039-12-31T00:00:00\",\"2040-12-31T00:00:00\",\"2041-12-31T00:00:00\",\"2042-12-31T00:00:00\",\"2043-12-31T00:00:00\",\"2044-12-31T00:00:00\",\"2045-12-31T00:00:00\",\"2046-12-31T00:00:00\",\"2047-12-31T00:00:00\",\"2048-12-31T00:00:00\",\"2049-12-31T00:00:00\",\"2050-12-31T00:00:00\",\"2051-12-31T00:00:00\",\"2052-12-31T00:00:00\",\"2053-12-31T00:00:00\",\"2054-12-31T00:00:00\",\"2055-12-31T00:00:00\",\"2056-12-31T00:00:00\",\"2057-12-31T00:00:00\",\"2058-12-31T00:00:00\",\"2059-12-31T00:00:00\",\"2060-12-31T00:00:00\",\"2061-12-31T00:00:00\",\"2062-12-31T00:00:00\",\"2063-12-31T00:00:00\",\"2064-12-31T00:00:00\",\"2065-12-31T00:00:00\",\"2066-12-31T00:00:00\",\"2067-12-31T00:00:00\",\"2068-12-31T00:00:00\",\"2069-12-31T00:00:00\",\"2070-12-31T00:00:00\",\"2071-12-31T00:00:00\",\"2072-12-31T00:00:00\",\"2073-12-31T00:00:00\",\"2074-12-31T00:00:00\"],\"xaxis\":\"x\",\"y\":[0.6254122630965869,0.6297656306944643,0.6340228860479962,0.6290258547476756,0.6334724831779027,0.6378258507757741,0.642083106129293,0.6370860748289868,0.6415327032592335,0.6458860708570783,0.6501433262106308,0.6451462949103223,0.6495929233405261,0.65394629093843,0.6582035462919321,0.6532065149916042,0.6576531434218122,0.6620065110197171,0.666263766373217,0.6612667350729107,0.6657133635031527,0.670066731101009,0.6743239864545614,0.6693269551542594,0.6737735835844533,0.6781269511823188,0.6823842065358626,0.6773871752355471,0.6818338036657421,0.6861871712636355,0.690444426617153,0.6854473953168376,0.6898940237470708,0.6942473913449656,0.6985046466984604,0.6935076153981502,0.697954243828397,0.7023076114262438,0.7065648667797987,0.7015678354794819,0.7060144639096905,0.7103678315075943,0.7146250868610888,0.7096280555607821,0.7140746839909697,0.7184280515888702,0.7226853069423856,0.7176882756420655,0.7221349040723127,0.726488271670171,0.7307455270237385,0.7257484957234067,0.7301951241536133,0.7345484917514878],\"yaxis\":\"y\",\"type\":\"scatter\"},{\"hovertemplate\":\"Feature=energy\\u003cbr\\u003eYear=%{x}\\u003cbr\\u003eValue=%{y}\\u003cextra\\u003e\\u003c\\u002fextra\\u003e\",\"legendgroup\":\"energy\",\"line\":{\"color\":\"#00cc96\",\"dash\":\"solid\"},\"marker\":{\"symbol\":\"circle\"},\"mode\":\"lines\",\"name\":\"energy\",\"orientation\":\"v\",\"showlegend\":true,\"x\":[\"2021-12-31T00:00:00\",\"2022-12-31T00:00:00\",\"2023-12-31T00:00:00\",\"2024-12-31T00:00:00\",\"2025-12-31T00:00:00\",\"2026-12-31T00:00:00\",\"2027-12-31T00:00:00\",\"2028-12-31T00:00:00\",\"2029-12-31T00:00:00\",\"2030-12-31T00:00:00\",\"2031-12-31T00:00:00\",\"2032-12-31T00:00:00\",\"2033-12-31T00:00:00\",\"2034-12-31T00:00:00\",\"2035-12-31T00:00:00\",\"2036-12-31T00:00:00\",\"2037-12-31T00:00:00\",\"2038-12-31T00:00:00\",\"2039-12-31T00:00:00\",\"2040-12-31T00:00:00\",\"2041-12-31T00:00:00\",\"2042-12-31T00:00:00\",\"2043-12-31T00:00:00\",\"2044-12-31T00:00:00\",\"2045-12-31T00:00:00\",\"2046-12-31T00:00:00\",\"2047-12-31T00:00:00\",\"2048-12-31T00:00:00\",\"2049-12-31T00:00:00\",\"2050-12-31T00:00:00\",\"2051-12-31T00:00:00\",\"2052-12-31T00:00:00\",\"2053-12-31T00:00:00\",\"2054-12-31T00:00:00\",\"2055-12-31T00:00:00\",\"2056-12-31T00:00:00\",\"2057-12-31T00:00:00\",\"2058-12-31T00:00:00\",\"2059-12-31T00:00:00\",\"2060-12-31T00:00:00\",\"2061-12-31T00:00:00\",\"2062-12-31T00:00:00\",\"2063-12-31T00:00:00\",\"2064-12-31T00:00:00\",\"2065-12-31T00:00:00\",\"2066-12-31T00:00:00\",\"2067-12-31T00:00:00\",\"2068-12-31T00:00:00\",\"2069-12-31T00:00:00\",\"2070-12-31T00:00:00\",\"2071-12-31T00:00:00\",\"2072-12-31T00:00:00\",\"2073-12-31T00:00:00\",\"2074-12-31T00:00:00\"],\"xaxis\":\"x\",\"y\":[0.661225581119406,0.6636950864246718,0.6661555665163434,0.6663090691251294,0.6687868809713876,0.6712563862766516,0.67371686636832,0.6738703689771097,0.6763481808233727,0.6788176861286304,0.6812781662203073,0.6814316688290958,0.6839094806753483,0.6863789859806205,0.688839466072285,0.688992968681069,0.6914707805273224,0.6939402858325949,0.6964007659242583,0.6965542685330481,0.6990320803793099,0.7015015856845703,0.7039620657762472,0.7041155683850375,0.7065933802312877,0.7090628855365502,0.7115233656282252,0.711676868237012,0.7141546800832623,0.7166241853885318,0.7190846654801998,0.7192381680889872,0.7217159799352469,0.7241854852405171,0.7266459653321794,0.726799467940968,0.7292772797872308,0.7317467850924889,0.7342072651841666,0.734360767792953,0.7368385796392066,0.7393080849444791,0.7417685650361414,0.7419220676449307,0.7443998794911793,0.7468693847964504,0.7493298648881181,0.7494833674969043,0.7519611793431672,0.7544306846484281,0.7568911647401091,0.7570446673488916,0.7595224791951449,0.7619919845004098],\"yaxis\":\"y\",\"type\":\"scatter\"},{\"hovertemplate\":\"Feature=instrumentalness\\u003cbr\\u003eYear=%{x}\\u003cbr\\u003eValue=%{y}\\u003cextra\\u003e\\u003c\\u002fextra\\u003e\",\"legendgroup\":\"instrumentalness\",\"line\":{\"color\":\"#ab63fa\",\"dash\":\"solid\"},\"marker\":{\"symbol\":\"circle\"},\"mode\":\"lines\",\"name\":\"instrumentalness\",\"orientation\":\"v\",\"showlegend\":true,\"x\":[\"2021-12-31T00:00:00\",\"2022-12-31T00:00:00\",\"2023-12-31T00:00:00\",\"2024-12-31T00:00:00\",\"2025-12-31T00:00:00\",\"2026-12-31T00:00:00\",\"2027-12-31T00:00:00\",\"2028-12-31T00:00:00\",\"2029-12-31T00:00:00\",\"2030-12-31T00:00:00\",\"2031-12-31T00:00:00\",\"2032-12-31T00:00:00\",\"2033-12-31T00:00:00\",\"2034-12-31T00:00:00\",\"2035-12-31T00:00:00\",\"2036-12-31T00:00:00\",\"2037-12-31T00:00:00\",\"2038-12-31T00:00:00\",\"2039-12-31T00:00:00\",\"2040-12-31T00:00:00\",\"2041-12-31T00:00:00\",\"2042-12-31T00:00:00\",\"2043-12-31T00:00:00\",\"2044-12-31T00:00:00\",\"2045-12-31T00:00:00\",\"2046-12-31T00:00:00\",\"2047-12-31T00:00:00\",\"2048-12-31T00:00:00\",\"2049-12-31T00:00:00\",\"2050-12-31T00:00:00\",\"2051-12-31T00:00:00\",\"2052-12-31T00:00:00\",\"2053-12-31T00:00:00\",\"2054-12-31T00:00:00\",\"2055-12-31T00:00:00\",\"2056-12-31T00:00:00\",\"2057-12-31T00:00:00\",\"2058-12-31T00:00:00\",\"2059-12-31T00:00:00\",\"2060-12-31T00:00:00\",\"2061-12-31T00:00:00\",\"2062-12-31T00:00:00\",\"2063-12-31T00:00:00\",\"2064-12-31T00:00:00\",\"2065-12-31T00:00:00\",\"2066-12-31T00:00:00\",\"2067-12-31T00:00:00\",\"2068-12-31T00:00:00\",\"2069-12-31T00:00:00\",\"2070-12-31T00:00:00\",\"2071-12-31T00:00:00\",\"2072-12-31T00:00:00\",\"2073-12-31T00:00:00\",\"2074-12-31T00:00:00\"],\"xaxis\":\"x\",\"y\":[0.03316147460245694,0.032229267906109985,0.03126283058274375,0.022168650466741414,0.02126819741826768,0.020335990721915737,0.019369553398537645,0.010275373282548229,0.00937492023409146,0.008442713537716265,0.007476276214368506,-0.001617903901624626,-0.0025183569501178935,-0.003450563646440974,-0.0044170009698335025,-0.013511181085842434,-0.014411634134332545,-0.015343840830655368,-0.0163102781540502,-0.025404458270039697,-0.02630491131850067,-0.027237118014865606,-0.028203555338213393,-0.037297735454201245,-0.03819818850270291,-0.03913039519905999,-0.04009683252241547,-0.04919101263841433,-0.05009146568691535,-0.051023672383248134,-0.05199010970662722,-0.0610842898226249,-0.06198474287109369,-0.0629169495674248,-0.063883386890824,-0.07297756700681701,-0.07387802005527377,-0.07481022675164684,-0.07577666407499248,-0.08487084419099301,-0.08577129723948229,-0.08670350393580539,-0.08766994125920466,-0.09676412137519542,-0.09766457442370287,-0.09859678112002974,-0.09956321844341079,-0.10865739855941212,-0.10955785160786878,-0.11049005830423192,-0.11145649562756611,-0.12055067574358,-0.12145112879207103,-0.12238333548842022],\"yaxis\":\"y\",\"type\":\"scatter\"},{\"hovertemplate\":\"Feature=liveness\\u003cbr\\u003eYear=%{x}\\u003cbr\\u003eValue=%{y}\\u003cextra\\u003e\\u003c\\u002fextra\\u003e\",\"legendgroup\":\"liveness\",\"line\":{\"color\":\"#FFA15A\",\"dash\":\"solid\"},\"marker\":{\"symbol\":\"circle\"},\"mode\":\"lines\",\"name\":\"liveness\",\"orientation\":\"v\",\"showlegend\":true,\"x\":[\"2021-12-31T00:00:00\",\"2022-12-31T00:00:00\",\"2023-12-31T00:00:00\",\"2024-12-31T00:00:00\",\"2025-12-31T00:00:00\",\"2026-12-31T00:00:00\",\"2027-12-31T00:00:00\",\"2028-12-31T00:00:00\",\"2029-12-31T00:00:00\",\"2030-12-31T00:00:00\",\"2031-12-31T00:00:00\",\"2032-12-31T00:00:00\",\"2033-12-31T00:00:00\",\"2034-12-31T00:00:00\",\"2035-12-31T00:00:00\",\"2036-12-31T00:00:00\",\"2037-12-31T00:00:00\",\"2038-12-31T00:00:00\",\"2039-12-31T00:00:00\",\"2040-12-31T00:00:00\",\"2041-12-31T00:00:00\",\"2042-12-31T00:00:00\",\"2043-12-31T00:00:00\",\"2044-12-31T00:00:00\",\"2045-12-31T00:00:00\",\"2046-12-31T00:00:00\",\"2047-12-31T00:00:00\",\"2048-12-31T00:00:00\",\"2049-12-31T00:00:00\",\"2050-12-31T00:00:00\",\"2051-12-31T00:00:00\",\"2052-12-31T00:00:00\",\"2053-12-31T00:00:00\",\"2054-12-31T00:00:00\",\"2055-12-31T00:00:00\",\"2056-12-31T00:00:00\",\"2057-12-31T00:00:00\",\"2058-12-31T00:00:00\",\"2059-12-31T00:00:00\",\"2060-12-31T00:00:00\",\"2061-12-31T00:00:00\",\"2062-12-31T00:00:00\",\"2063-12-31T00:00:00\",\"2064-12-31T00:00:00\",\"2065-12-31T00:00:00\",\"2066-12-31T00:00:00\",\"2067-12-31T00:00:00\",\"2068-12-31T00:00:00\",\"2069-12-31T00:00:00\",\"2070-12-31T00:00:00\",\"2071-12-31T00:00:00\",\"2072-12-31T00:00:00\",\"2073-12-31T00:00:00\",\"2074-12-31T00:00:00\"],\"xaxis\":\"x\",\"y\":[0.19128001064505856,0.19174647708283177,0.19219440534887297,0.1891893155381035,0.18967326594096673,0.1901397323787377,0.19058766064477392,0.18758257083400992,0.18806652123688034,0.1885329876746415,0.18898091594069055,0.18597582612992508,0.18645977653277993,0.18692624297056318,0.18737417123659325,0.18436908142582098,0.18485303182867718,0.1853194982664606,0.1857674265324897,0.18276233672172568,0.1832462871245943,0.18371275356235978,0.18416068182840883,0.18115559201764564,0.18163954242049687,0.18210600885826572,0.18255393712431153,0.17954884731354362,0.1800327977163951,0.18049926415417428,0.18094719242021007,0.17794210260944257,0.1784260530123079,0.17889251945008774,0.17934044771611501,0.1763353579053495,0.1768193083082199,0.17728577474598192,0.17773370301203187,0.1747286132012633,0.17521256360411983,0.17567903004190313,0.17612695830793026,0.17312186849716574,0.17360581890001456,0.17407228533779628,0.17452021360383121,0.17151512379306214,0.17199907419593263,0.1724655406336989,0.1729134688997537,0.1699083790889794,0.1703923294918352,0.17085879592960743],\"yaxis\":\"y\",\"type\":\"scatter\"},{\"hovertemplate\":\"Feature=valence\\u003cbr\\u003eYear=%{x}\\u003cbr\\u003eValue=%{y}\\u003cextra\\u003e\\u003c\\u002fextra\\u003e\",\"legendgroup\":\"valence\",\"line\":{\"color\":\"#19d3f3\",\"dash\":\"solid\"},\"marker\":{\"symbol\":\"circle\"},\"mode\":\"lines\",\"name\":\"valence\",\"orientation\":\"v\",\"showlegend\":true,\"x\":[\"2021-12-31T00:00:00\",\"2022-12-31T00:00:00\",\"2023-12-31T00:00:00\",\"2024-12-31T00:00:00\",\"2025-12-31T00:00:00\",\"2026-12-31T00:00:00\",\"2027-12-31T00:00:00\",\"2028-12-31T00:00:00\",\"2029-12-31T00:00:00\",\"2030-12-31T00:00:00\",\"2031-12-31T00:00:00\",\"2032-12-31T00:00:00\",\"2033-12-31T00:00:00\",\"2034-12-31T00:00:00\",\"2035-12-31T00:00:00\",\"2036-12-31T00:00:00\",\"2037-12-31T00:00:00\",\"2038-12-31T00:00:00\",\"2039-12-31T00:00:00\",\"2040-12-31T00:00:00\",\"2041-12-31T00:00:00\",\"2042-12-31T00:00:00\",\"2043-12-31T00:00:00\",\"2044-12-31T00:00:00\",\"2045-12-31T00:00:00\",\"2046-12-31T00:00:00\",\"2047-12-31T00:00:00\",\"2048-12-31T00:00:00\",\"2049-12-31T00:00:00\",\"2050-12-31T00:00:00\",\"2051-12-31T00:00:00\",\"2052-12-31T00:00:00\",\"2053-12-31T00:00:00\",\"2054-12-31T00:00:00\",\"2055-12-31T00:00:00\",\"2056-12-31T00:00:00\",\"2057-12-31T00:00:00\",\"2058-12-31T00:00:00\",\"2059-12-31T00:00:00\",\"2060-12-31T00:00:00\",\"2061-12-31T00:00:00\",\"2062-12-31T00:00:00\",\"2063-12-31T00:00:00\",\"2064-12-31T00:00:00\",\"2065-12-31T00:00:00\",\"2066-12-31T00:00:00\",\"2067-12-31T00:00:00\",\"2068-12-31T00:00:00\",\"2069-12-31T00:00:00\",\"2070-12-31T00:00:00\",\"2071-12-31T00:00:00\",\"2072-12-31T00:00:00\",\"2073-12-31T00:00:00\",\"2074-12-31T00:00:00\"],\"xaxis\":\"x\",\"y\":[0.5060802586519731,0.5093976865501539,0.5125823516151035,0.4965390343885199,0.4999833438489837,0.5033007717471525,0.5064854368120743,0.4904421195855211,0.4938864290460253,0.4972038569441388,0.5003885220091318,0.48434520478257137,0.48778951424298794,0.49110694214122474,0.49429160720611204,0.47824828997951313,0.4816925994399378,0.4850100273381758,0.48819469240305824,0.47215137517650463,0.47559568463699886,0.4789131125351367,0.48209777760012934,0.466054460373582,0.4694987698339783,0.47281619773213496,0.4760008627971096,0.4599575455705355,0.46340185503093356,0.4667192829291479,0.46990394799406726,0.45386063076749467,0.4573049402279704,0.4606223681261882,0.46380703319106004,0.4477637159644985,0.45120802542500277,0.454525453323121,0.4577101183881187,0.4416668011615411,0.4451111106219674,0.44842853852020415,0.4516132035850755,0.43556988635852006,0.43901419581890305,0.44233162371713153,0.44551628878204624,0.42947297155546466,0.4329172810159694,0.4362347089141114,0.4394193739791359,0.4233760567525269,0.42682036621294894,0.43013779411112407],\"yaxis\":\"y\",\"type\":\"scatter\"}],                        {\"template\":{\"data\":{\"histogram2dcontour\":[{\"type\":\"histogram2dcontour\",\"colorbar\":{\"outlinewidth\":0,\"ticks\":\"\"},\"colorscale\":[[0.0,\"#0d0887\"],[0.1111111111111111,\"#46039f\"],[0.2222222222222222,\"#7201a8\"],[0.3333333333333333,\"#9c179e\"],[0.4444444444444444,\"#bd3786\"],[0.5555555555555556,\"#d8576b\"],[0.6666666666666666,\"#ed7953\"],[0.7777777777777778,\"#fb9f3a\"],[0.8888888888888888,\"#fdca26\"],[1.0,\"#f0f921\"]]}],\"choropleth\":[{\"type\":\"choropleth\",\"colorbar\":{\"outlinewidth\":0,\"ticks\":\"\"}}],\"histogram2d\":[{\"type\":\"histogram2d\",\"colorbar\":{\"outlinewidth\":0,\"ticks\":\"\"},\"colorscale\":[[0.0,\"#0d0887\"],[0.1111111111111111,\"#46039f\"],[0.2222222222222222,\"#7201a8\"],[0.3333333333333333,\"#9c179e\"],[0.4444444444444444,\"#bd3786\"],[0.5555555555555556,\"#d8576b\"],[0.6666666666666666,\"#ed7953\"],[0.7777777777777778,\"#fb9f3a\"],[0.8888888888888888,\"#fdca26\"],[1.0,\"#f0f921\"]]}],\"heatmap\":[{\"type\":\"heatmap\",\"colorbar\":{\"outlinewidth\":0,\"ticks\":\"\"},\"colorscale\":[[0.0,\"#0d0887\"],[0.1111111111111111,\"#46039f\"],[0.2222222222222222,\"#7201a8\"],[0.3333333333333333,\"#9c179e\"],[0.4444444444444444,\"#bd3786\"],[0.5555555555555556,\"#d8576b\"],[0.6666666666666666,\"#ed7953\"],[0.7777777777777778,\"#fb9f3a\"],[0.8888888888888888,\"#fdca26\"],[1.0,\"#f0f921\"]]}],\"heatmapgl\":[{\"type\":\"heatmapgl\",\"colorbar\":{\"outlinewidth\":0,\"ticks\":\"\"},\"colorscale\":[[0.0,\"#0d0887\"],[0.1111111111111111,\"#46039f\"],[0.2222222222222222,\"#7201a8\"],[0.3333333333333333,\"#9c179e\"],[0.4444444444444444,\"#bd3786\"],[0.5555555555555556,\"#d8576b\"],[0.6666666666666666,\"#ed7953\"],[0.7777777777777778,\"#fb9f3a\"],[0.8888888888888888,\"#fdca26\"],[1.0,\"#f0f921\"]]}],\"contourcarpet\":[{\"type\":\"contourcarpet\",\"colorbar\":{\"outlinewidth\":0,\"ticks\":\"\"}}],\"contour\":[{\"type\":\"contour\",\"colorbar\":{\"outlinewidth\":0,\"ticks\":\"\"},\"colorscale\":[[0.0,\"#0d0887\"],[0.1111111111111111,\"#46039f\"],[0.2222222222222222,\"#7201a8\"],[0.3333333333333333,\"#9c179e\"],[0.4444444444444444,\"#bd3786\"],[0.5555555555555556,\"#d8576b\"],[0.6666666666666666,\"#ed7953\"],[0.7777777777777778,\"#fb9f3a\"],[0.8888888888888888,\"#fdca26\"],[1.0,\"#f0f921\"]]}],\"surface\":[{\"type\":\"surface\",\"colorbar\":{\"outlinewidth\":0,\"ticks\":\"\"},\"colorscale\":[[0.0,\"#0d0887\"],[0.1111111111111111,\"#46039f\"],[0.2222222222222222,\"#7201a8\"],[0.3333333333333333,\"#9c179e\"],[0.4444444444444444,\"#bd3786\"],[0.5555555555555556,\"#d8576b\"],[0.6666666666666666,\"#ed7953\"],[0.7777777777777778,\"#fb9f3a\"],[0.8888888888888888,\"#fdca26\"],[1.0,\"#f0f921\"]]}],\"mesh3d\":[{\"type\":\"mesh3d\",\"colorbar\":{\"outlinewidth\":0,\"ticks\":\"\"}}],\"scatter\":[{\"fillpattern\":{\"fillmode\":\"overlay\",\"size\":10,\"solidity\":0.2},\"type\":\"scatter\"}],\"parcoords\":[{\"type\":\"parcoords\",\"line\":{\"colorbar\":{\"outlinewidth\":0,\"ticks\":\"\"}}}],\"scatterpolargl\":[{\"type\":\"scatterpolargl\",\"marker\":{\"colorbar\":{\"outlinewidth\":0,\"ticks\":\"\"}}}],\"bar\":[{\"error_x\":{\"color\":\"#2a3f5f\"},\"error_y\":{\"color\":\"#2a3f5f\"},\"marker\":{\"line\":{\"color\":\"#E5ECF6\",\"width\":0.5},\"pattern\":{\"fillmode\":\"overlay\",\"size\":10,\"solidity\":0.2}},\"type\":\"bar\"}],\"scattergeo\":[{\"type\":\"scattergeo\",\"marker\":{\"colorbar\":{\"outlinewidth\":0,\"ticks\":\"\"}}}],\"scatterpolar\":[{\"type\":\"scatterpolar\",\"marker\":{\"colorbar\":{\"outlinewidth\":0,\"ticks\":\"\"}}}],\"histogram\":[{\"marker\":{\"pattern\":{\"fillmode\":\"overlay\",\"size\":10,\"solidity\":0.2}},\"type\":\"histogram\"}],\"scattergl\":[{\"type\":\"scattergl\",\"marker\":{\"colorbar\":{\"outlinewidth\":0,\"ticks\":\"\"}}}],\"scatter3d\":[{\"type\":\"scatter3d\",\"line\":{\"colorbar\":{\"outlinewidth\":0,\"ticks\":\"\"}},\"marker\":{\"colorbar\":{\"outlinewidth\":0,\"ticks\":\"\"}}}],\"scattermapbox\":[{\"type\":\"scattermapbox\",\"marker\":{\"colorbar\":{\"outlinewidth\":0,\"ticks\":\"\"}}}],\"scatterternary\":[{\"type\":\"scatterternary\",\"marker\":{\"colorbar\":{\"outlinewidth\":0,\"ticks\":\"\"}}}],\"scattercarpet\":[{\"type\":\"scattercarpet\",\"marker\":{\"colorbar\":{\"outlinewidth\":0,\"ticks\":\"\"}}}],\"carpet\":[{\"aaxis\":{\"endlinecolor\":\"#2a3f5f\",\"gridcolor\":\"white\",\"linecolor\":\"white\",\"minorgridcolor\":\"white\",\"startlinecolor\":\"#2a3f5f\"},\"baxis\":{\"endlinecolor\":\"#2a3f5f\",\"gridcolor\":\"white\",\"linecolor\":\"white\",\"minorgridcolor\":\"white\",\"startlinecolor\":\"#2a3f5f\"},\"type\":\"carpet\"}],\"table\":[{\"cells\":{\"fill\":{\"color\":\"#EBF0F8\"},\"line\":{\"color\":\"white\"}},\"header\":{\"fill\":{\"color\":\"#C8D4E3\"},\"line\":{\"color\":\"white\"}},\"type\":\"table\"}],\"barpolar\":[{\"marker\":{\"line\":{\"color\":\"#E5ECF6\",\"width\":0.5},\"pattern\":{\"fillmode\":\"overlay\",\"size\":10,\"solidity\":0.2}},\"type\":\"barpolar\"}],\"pie\":[{\"automargin\":true,\"type\":\"pie\"}]},\"layout\":{\"autotypenumbers\":\"strict\",\"colorway\":[\"#636efa\",\"#EF553B\",\"#00cc96\",\"#ab63fa\",\"#FFA15A\",\"#19d3f3\",\"#FF6692\",\"#B6E880\",\"#FF97FF\",\"#FECB52\"],\"font\":{\"color\":\"#2a3f5f\"},\"hovermode\":\"closest\",\"hoverlabel\":{\"align\":\"left\"},\"paper_bgcolor\":\"white\",\"plot_bgcolor\":\"#E5ECF6\",\"polar\":{\"bgcolor\":\"#E5ECF6\",\"angularaxis\":{\"gridcolor\":\"white\",\"linecolor\":\"white\",\"ticks\":\"\"},\"radialaxis\":{\"gridcolor\":\"white\",\"linecolor\":\"white\",\"ticks\":\"\"}},\"ternary\":{\"bgcolor\":\"#E5ECF6\",\"aaxis\":{\"gridcolor\":\"white\",\"linecolor\":\"white\",\"ticks\":\"\"},\"baxis\":{\"gridcolor\":\"white\",\"linecolor\":\"white\",\"ticks\":\"\"},\"caxis\":{\"gridcolor\":\"white\",\"linecolor\":\"white\",\"ticks\":\"\"}},\"coloraxis\":{\"colorbar\":{\"outlinewidth\":0,\"ticks\":\"\"}},\"colorscale\":{\"sequential\":[[0.0,\"#0d0887\"],[0.1111111111111111,\"#46039f\"],[0.2222222222222222,\"#7201a8\"],[0.3333333333333333,\"#9c179e\"],[0.4444444444444444,\"#bd3786\"],[0.5555555555555556,\"#d8576b\"],[0.6666666666666666,\"#ed7953\"],[0.7777777777777778,\"#fb9f3a\"],[0.8888888888888888,\"#fdca26\"],[1.0,\"#f0f921\"]],\"sequentialminus\":[[0.0,\"#0d0887\"],[0.1111111111111111,\"#46039f\"],[0.2222222222222222,\"#7201a8\"],[0.3333333333333333,\"#9c179e\"],[0.4444444444444444,\"#bd3786\"],[0.5555555555555556,\"#d8576b\"],[0.6666666666666666,\"#ed7953\"],[0.7777777777777778,\"#fb9f3a\"],[0.8888888888888888,\"#fdca26\"],[1.0,\"#f0f921\"]],\"diverging\":[[0,\"#8e0152\"],[0.1,\"#c51b7d\"],[0.2,\"#de77ae\"],[0.3,\"#f1b6da\"],[0.4,\"#fde0ef\"],[0.5,\"#f7f7f7\"],[0.6,\"#e6f5d0\"],[0.7,\"#b8e186\"],[0.8,\"#7fbc41\"],[0.9,\"#4d9221\"],[1,\"#276419\"]]},\"xaxis\":{\"gridcolor\":\"white\",\"linecolor\":\"white\",\"ticks\":\"\",\"title\":{\"standoff\":15},\"zerolinecolor\":\"white\",\"automargin\":true,\"zerolinewidth\":2},\"yaxis\":{\"gridcolor\":\"white\",\"linecolor\":\"white\",\"ticks\":\"\",\"title\":{\"standoff\":15},\"zerolinecolor\":\"white\",\"automargin\":true,\"zerolinewidth\":2},\"scene\":{\"xaxis\":{\"backgroundcolor\":\"#E5ECF6\",\"gridcolor\":\"white\",\"linecolor\":\"white\",\"showbackground\":true,\"ticks\":\"\",\"zerolinecolor\":\"white\",\"gridwidth\":2},\"yaxis\":{\"backgroundcolor\":\"#E5ECF6\",\"gridcolor\":\"white\",\"linecolor\":\"white\",\"showbackground\":true,\"ticks\":\"\",\"zerolinecolor\":\"white\",\"gridwidth\":2},\"zaxis\":{\"backgroundcolor\":\"#E5ECF6\",\"gridcolor\":\"white\",\"linecolor\":\"white\",\"showbackground\":true,\"ticks\":\"\",\"zerolinecolor\":\"white\",\"gridwidth\":2}},\"shapedefaults\":{\"line\":{\"color\":\"#2a3f5f\"}},\"annotationdefaults\":{\"arrowcolor\":\"#2a3f5f\",\"arrowhead\":0,\"arrowwidth\":1},\"geo\":{\"bgcolor\":\"white\",\"landcolor\":\"#E5ECF6\",\"subunitcolor\":\"white\",\"showland\":true,\"showlakes\":true,\"lakecolor\":\"white\"},\"title\":{\"x\":0.05},\"mapbox\":{\"style\":\"light\"}}},\"xaxis\":{\"anchor\":\"y\",\"domain\":[0.0,1.0],\"title\":{\"text\":\"Year\"}},\"yaxis\":{\"anchor\":\"x\",\"domain\":[0.0,1.0],\"title\":{\"text\":\"Value\"}},\"legend\":{\"title\":{\"text\":\"Feature\"},\"tracegroupgap\":0},\"title\":{\"text\":\"Sound Feature Predictions for 2075\"}},                        {\"responsive\": true}                    ).then(function(){\n",
              "                            \n",
              "var gd = document.getElementById('5754ad2c-cdec-44e2-a16a-f7f75ee1e70b');\n",
              "var x = new MutationObserver(function (mutations, observer) {{\n",
              "        var display = window.getComputedStyle(gd).display;\n",
              "        if (!display || display === 'none') {{\n",
              "            console.log([gd, 'removed!']);\n",
              "            Plotly.purge(gd);\n",
              "            observer.disconnect();\n",
              "        }}\n",
              "}});\n",
              "\n",
              "// Listen for the removal of the full notebook cells\n",
              "var notebookContainer = gd.closest('#notebook-container');\n",
              "if (notebookContainer) {{\n",
              "    x.observe(notebookContainer, {childList: true});\n",
              "}}\n",
              "\n",
              "// Listen for the clearing of the current output cell\n",
              "var outputEl = gd.closest('.output');\n",
              "if (outputEl) {{\n",
              "    x.observe(outputEl, {childList: true});\n",
              "}}\n",
              "\n",
              "                        })                };                            </script>        </div>\n",
              "</body>\n",
              "</html>"
            ]
          },
          "metadata": {}
        }
      ]
    }
  ]
}